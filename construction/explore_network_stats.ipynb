{
 "cells": [
  {
   "cell_type": "markdown",
   "metadata": {},
   "source": [
    "# Explore network statistics"
   ]
  },
  {
   "cell_type": "markdown",
   "metadata": {},
   "source": [
    "In this notebook we count for number of nodes and edges for each node and edge type and generate statistics and visualizations for the PINetwork generated in \"Sinai2024.ipynb\"."
   ]
  },
  {
   "cell_type": "code",
   "execution_count": null,
   "metadata": {},
   "outputs": [],
   "source": [
    "# Import statements\n",
    "import pandas as pd\n",
    "import os\n",
    "import matplotlib.pyplot as plt\n",
    "from collections import defaultdict\n",
    "import networkx as nx\n",
    "import random\n",
    "from tqdm import tqdm\n",
    "import numpy as np\n",
    "import webbrowser"
   ]
  },
  {
   "cell_type": "markdown",
   "metadata": {},
   "source": [
    "Here we generate counts for each of the nodes and edges of the network."
   ]
  },
  {
   "cell_type": "markdown",
   "metadata": {},
   "source": [
    "# Protocol 1 - 21"
   ]
  },
  {
   "cell_type": "code",
   "execution_count": null,
   "metadata": {},
   "outputs": [],
   "source": [
    "for file in os.listdir(\"./Network/\"):\n",
    "    if file.endswith(\".csv\"):\n",
    "        df = pd.read_csv(\"./Network/\" + file)\n",
    "        print(file, len(df))\n"
   ]
  },
  {
   "cell_type": "markdown",
   "metadata": {},
   "source": [
    "Get total network nodes and edges."
   ]
  },
  {
   "cell_type": "code",
   "execution_count": null,
   "metadata": {},
   "outputs": [],
   "source": [
    "# Create variables for node and edge counts.\n",
    "node_count = 0\n",
    "edge_count = 0 \n",
    "\n",
    "# Iterate over node files to get node counts.\n",
    "for file in os.listdir(\"./Network/\"):\n",
    "    if file.endswith(\".nodes.csv\"):\n",
    "        df = pd.read_csv(\"./Network/\" + file)\n",
    "        node_count += len(df)\n",
    "    elif file.endswith(\".edges.csv\"):\n",
    "        df = pd.read_csv(\"./Network/\" + file)\n",
    "        edge_count += len(df)\n",
    "\n",
    "# Print out node and edge counts.\n",
    "print(f\"Total Node Count: {node_count}\")\n",
    "print(f\"Total Edge Count: {edge_count}\")"
   ]
  },
  {
   "cell_type": "markdown",
   "metadata": {},
   "source": [
    "# Protocol 22"
   ]
  },
  {
   "cell_type": "markdown",
   "metadata": {},
   "source": [
    "Now let us create plots for the node connectivity distribution. This visualizes the distribution of the number of neighbors all the nodes in the graph have. We do this visualization for each node type to understand the underlying structure of the graph and to ensure that nothing is wrong with the network itself."
   ]
  },
  {
   "cell_type": "code",
   "execution_count": null,
   "metadata": {},
   "outputs": [],
   "source": [
    "# Initialize structures\n",
    "node_type_map = {}\n",
    "node_degrees = defaultdict(int)\n",
    "\n",
    "network_path = \"./Network/\"\n",
    "\n",
    "# Step 1: Map node IDs to their types\n",
    "for file in os.listdir(network_path):\n",
    "    if file.endswith(\".nodes.csv\"):\n",
    "        df = pd.read_csv(os.path.join(network_path, file), usecols=['id'])\n",
    "        node_type = file.replace(\".nodes.csv\", \"\")\n",
    "        for node_id in df['id']:\n",
    "            node_type_map[node_id] = node_type\n",
    "\n",
    "# Step 2: Count degrees\n",
    "seen_edges = set()\n",
    "for file in os.listdir(network_path):\n",
    "    if file.endswith(\".edges.csv\"):\n",
    "        df = pd.read_csv(os.path.join(network_path, file), usecols=['source', 'target'])\n",
    "        for src, tgt in zip(df['source'], df['target']):\n",
    "            edge = tuple(sorted((src, tgt)))\n",
    "            if edge not in seen_edges:\n",
    "                seen_edges.add(edge)\n",
    "                node_degrees[edge[0]] += 1\n",
    "                node_degrees[edge[1]] += 1\n",
    "\n",
    "# Step 3: Aggregate degree by type\n",
    "degree_by_type = defaultdict(list)\n",
    "for node_id, degree in node_degrees.items():\n",
    "    node_type = node_type_map.get(node_id, \"Unknown\")\n",
    "    degree_by_type[node_type].append(degree)\n",
    "\n",
    "# Step 4: Plot 2x2 subplots\n",
    "node_types = list(degree_by_type.keys())\n",
    "num_plots = len(node_types)\n",
    "rows, cols = 2, 2\n",
    "\n",
    "fig, axes = plt.subplots(rows, cols, figsize=(12, 10))\n",
    "axes = axes.flatten()\n",
    "\n",
    "for i, node_type in enumerate(node_types[:4]):\n",
    "    ax = axes[i]\n",
    "    degrees = degree_by_type[node_type]\n",
    "\n",
    "\n",
    "    ax.hist(\n",
    "        degrees,\n",
    "        bins=20,  # +2 to include max degree\n",
    "        edgecolor='black',\n",
    "        color='gray',\n",
    "        align='mid',\n",
    "        rwidth=1.0  # no padding between bars\n",
    "    )\n",
    "    #ax.set_xlim(min_deg - 0.5, max_deg + 0.5)  # optional: centers bars better\n",
    "    ax.set_title(f\"{node_type} Neighbors\")\n",
    "    if node_type == \"Authors\":\n",
    "        ax.set_title(\"PIs Neighbors\")\n",
    "    ax.set_xlabel(\"Neighbors\")\n",
    "    ax.set_ylabel(f\"{node_type}\")\n",
    "    ax.set_yscale(\"log\")\n",
    "\n",
    "# Hide unused subplots\n",
    "for j in range(len(node_types), rows * cols):\n",
    "    fig.delaxes(axes[j])\n",
    "\n",
    "plt.tight_layout()\n",
    "plt.show()\n"
   ]
  },
  {
   "cell_type": "markdown",
   "metadata": {},
   "source": [
    "<small> Figure 2A. The neighbor distribution of each node type for the generated network. </small>"
   ]
  },
  {
   "cell_type": "markdown",
   "metadata": {},
   "source": [
    "Now let us calculate the average of the shortest paths. This means that it finds all paths to all other nodes and then takes the mean of that path length. We do this for each node type to understand how certain node types are connected to the rest of the graph."
   ]
  },
  {
   "cell_type": "code",
   "execution_count": null,
   "metadata": {},
   "outputs": [],
   "source": [
    "network_path = \"./Network/\"\n",
    "G = nx.Graph()\n",
    "node_type_map = {}\n",
    "\n",
    "# Load node types\n",
    "for file in os.listdir(network_path):\n",
    "    if file.endswith(\".nodes.csv\"):\n",
    "        node_type = file.replace(\".nodes.csv\", \"\")\n",
    "        df = pd.read_csv(os.path.join(network_path, file), usecols=['id'])\n",
    "        for node_id in df['id']:\n",
    "            node_type_map[node_id] = node_type\n",
    "\n",
    "# Load edges\n",
    "for file in os.listdir(network_path):\n",
    "    if file.endswith(\".edges.csv\"):\n",
    "        df = pd.read_csv(os.path.join(network_path, file), usecols=['source', 'target'])\n",
    "        G.add_edges_from(zip(df['source'], df['target']))\n",
    "\n",
    "# Compute all-pairs shortest paths\n",
    "all_lengths = []\n",
    "type_lengths = defaultdict(list)\n",
    "\n",
    "for source, targets in tqdm(nx.all_pairs_shortest_path_length(G), total=len(G), desc=\"Computing paths\"):\n",
    "    source_type = node_type_map.get(source, \"Unknown\")\n",
    "    for target, dist in targets.items():\n",
    "        if source != target:\n",
    "            all_lengths.append(dist)\n",
    "            if node_type_map.get(target, \"Unknown\") == source_type:\n",
    "                type_lengths[source_type].append(dist)\n",
    "\n",
    "# Print results\n",
    "print(f\"\\nTotal Average Shortest Path Length: {np.mean(all_lengths):.4f}\")\n",
    "for ntype, lengths in type_lengths.items():\n",
    "    print(f\"Avg Path Length within node type '{ntype}': {np.mean(lengths):.4f}\")\n",
    "\n"
   ]
  },
  {
   "cell_type": "code",
   "execution_count": null,
   "metadata": {},
   "outputs": [],
   "source": [
    "import random\n",
    "samp = 1000000\n",
    "sampled_lengths_by_type = {\n",
    "    ntype: random.sample(lengths, min(samp, len(lengths)))\n",
    "    for ntype, lengths in type_lengths.items()\n",
    "}\n",
    "# Create subplots for each node type\n",
    "node_types = list(sampled_lengths_by_type.keys())\n",
    "ncols = 2\n",
    "nrows = (len(node_types) + 1) // ncols\n",
    "fig, axes = plt.subplots(nrows=nrows, ncols=ncols, figsize=(12, 5 * nrows))\n",
    "axes = axes.flatten()\n",
    "\n",
    "for i, ntype in enumerate(node_types):\n",
    "    ax = axes[i]\n",
    "    ax.hist(sampled_lengths_by_type[ntype], bins=30, edgecolor='black', color='gray', align='mid')\n",
    "    ax.set_title(f\"Shortest Path Distribution from {ntype} nodes\")\n",
    "    if ntype == \"Authors\":\n",
    "        ax.set_title(f\"Shortest Path Distribution from PIs\")\n",
    "    ax.set_xlabel(\"Path Length\")\n",
    "    ax.set_ylabel(\"Paths\")\n",
    "\n",
    "# Remove unused subplots\n",
    "for j in range(len(node_types), len(axes)):\n",
    "    fig.delaxes(axes[j])\n",
    "\n",
    "plt.suptitle(f\"Shortest Path Distribution n={samp}\", fontsize=20)\n",
    "plt.tight_layout()\n",
    "plt.show()"
   ]
  },
  {
   "cell_type": "markdown",
   "metadata": {},
   "source": [
    "<small> Figure 2B. A sampling of the shortest path distribution from each node type. The distribution is sampled from the true distribution using 10^6 data points. </small>"
   ]
  },
  {
   "cell_type": "markdown",
   "metadata": {},
   "source": [
    "Now let us compute all of the top node types by each edge type (i.e. top Author by number of coauthors, top Author by number of publications...)"
   ]
  },
  {
   "cell_type": "code",
   "execution_count": null,
   "metadata": {},
   "outputs": [],
   "source": [
    "network_path = \"./Network/\"\n",
    "node_labels = {}\n",
    "node_types = {}\n",
    "\n",
    "# Step 1: Load node labels (or titles) and types\n",
    "for file in os.listdir(network_path):\n",
    "    if file.endswith(\".nodes.csv\"):\n",
    "        node_type = file.replace(\".nodes.csv\", \"\")\n",
    "        df = pd.read_csv(os.path.join(network_path, file))\n",
    "\n",
    "        # Use \"Title\" for specific node types, otherwise \"label\"\n",
    "        if node_type == \"Publications\" and \"Journal\" in df.columns:\n",
    "            label_col = \"Journal\"\n",
    "        elif node_type == \"Awards\" and \"Title\" in df.columns:\n",
    "            label_col = \"Title\"\n",
    "        else:\n",
    "            label_col = \"label\"\n",
    "\n",
    "        df['id'] = df['id'].astype(str)\n",
    "        df[label_col] = df[label_col].astype(str)\n",
    "\n",
    "        for node_id, label in zip(df['id'], df[label_col]):\n",
    "            if node_type == \"Publications\":\n",
    "                full_label = f\"PMID: {node_id}, {label}\"\n",
    "            else:\n",
    "                full_label = label\n",
    "            node_labels[node_id] = full_label\n",
    "            node_types[node_id] = node_type\n",
    "\n",
    "# Step 2: Compute degrees per edge type, only when node_type matches the left side\n",
    "edge_type_degrees = defaultdict(lambda: defaultdict(list))  # node_type -> edge_type -> [(label, degree)]\n",
    "\n",
    "\n",
    "length_top_graph = {(\"Authors\", \"Authors\"): 20,\n",
    "                    (\"Authors\", \"Publications\"): 20,\n",
    "                    (\"Awards\", \"Publications\"): 20}\n",
    "for file in os.listdir(network_path):\n",
    "    if file.endswith(\".edges.csv\"):\n",
    "        edge_type_full = file.replace(\".edges.csv\", \"\")\n",
    "        parts = edge_type_full.split('.')\n",
    "        if len(parts) < 3:\n",
    "            continue\n",
    "\n",
    "        type1, relation, type2 = parts[0], parts[1], parts[2]\n",
    "\n",
    "        # Only process edge if node_type is in first position\n",
    "        if type1 not in node_types.values():\n",
    "            continue\n",
    "\n",
    "        df = pd.read_csv(os.path.join(network_path, file), usecols=['source', 'target'])\n",
    "        df['source'] = df['source'].astype(str)\n",
    "        df['target'] = df['target'].astype(str)\n",
    "\n",
    "        G = nx.Graph()\n",
    "        G.add_edges_from(zip(df['source'], df['target']))\n",
    "\n",
    "        for node, deg in G.degree():\n",
    "            if node_types.get(node) == type1:\n",
    "                label = node_labels.get(node, node)\n",
    "                edge_type_degrees[type1][edge_type_full].append((label, deg))\n",
    "\n",
    "# Step 3: Plot top nodes\n",
    "for node_type, edge_map in edge_type_degrees.items():\n",
    "    edge_types = list(edge_map.keys())\n",
    "    ncols = 1\n",
    "    nrows = len(edge_types)\n",
    "\n",
    "    if node_type == \"Awards\":\n",
    "        nrows -= 1\n",
    "    fig, axes = plt.subplots(nrows=nrows, ncols=ncols, figsize=(14, 4 * nrows))\n",
    "    if nrows == 1:\n",
    "        axes = [axes]\n",
    "\n",
    "    for i, edge_type in enumerate(edge_types):\n",
    "        \n",
    "        top = sorted(edge_map[edge_type], key=lambda x: x[1], reverse=True)[:length_top_graph.get(\n",
    "            (node_type, edge_type.split(\".\")[2]), 10\n",
    "        )]\n",
    "        raw_labels, degrees = zip(*top)\n",
    "\n",
    "        # Cap all labels at 60 characters\n",
    "        labels = []\n",
    "        for label in raw_labels:\n",
    "            label = label.replace(\"N/A,\", \"\").replace(\"N/A\", \"\").strip()\n",
    "            label = ' '.join(label.split())  # remove extra whitespace\n",
    "            label = label[:60]\n",
    "            if len(label) == 60:\n",
    "                label += \"...\"\n",
    "            labels.append(label)\n",
    "\n",
    "        relation = edge_type.split('.')[2]  # Use third part as relation\n",
    "        if node_type == \"Awards\" and relation == \"Authors\":\n",
    "            continue\n",
    "        ax = axes[i]\n",
    "        ax.barh(labels[::-1], degrees[::-1], color='gray', edgecolor='black')\n",
    "        ax.set_title(f\"Top {node_type} by {relation}\")\n",
    "        if node_type == \"Authors\" or relation == \"Authors\":\n",
    "            if node_type == \"Authors\" and relation == \"Authors\":\n",
    "                ax.set_title(f\"Top PIs by PI Coauthors\")\n",
    "            elif relation == \"Authors\":\n",
    "                ax.set_title(f\"Top {node_type} by PIs\")\n",
    "            elif node_type == \"Authors\":\n",
    "                ax.set_title(f\"Top PIs by {relation}\")\n",
    "\n",
    "\n",
    "        ax.set_xlabel(f\"{relation}\")\n",
    "\n",
    "    plt.subplots_adjust(top=1.1)\n",
    "    plt.tight_layout()\n",
    "    plt.show()\n"
   ]
  },
  {
   "cell_type": "markdown",
   "metadata": {},
   "source": [
    "<small>Figure 3. The top nodes for each node type by each edge type. For example, we find the top PIs by their number of publications or the number of coauthor PIs. For the plots either the top 10 or the top 20 are displayed.</small>"
   ]
  }
 ],
 "metadata": {
  "kernelspec": {
   "display_name": "Python 3 (ipykernel)",
   "language": "python",
   "name": "python3"
  },
  "language_info": {
   "codemirror_mode": {
    "name": "ipython",
    "version": 3
   },
   "file_extension": ".py",
   "mimetype": "text/x-python",
   "name": "python",
   "nbconvert_exporter": "python",
   "pygments_lexer": "ipython3",
   "version": "3.13.3"
  }
 },
 "nbformat": 4,
 "nbformat_minor": 4
}
