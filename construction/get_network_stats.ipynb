{
 "cells": [
  {
   "cell_type": "markdown",
   "metadata": {},
   "source": [
    "# Get network counts"
   ]
  },
  {
   "cell_type": "markdown",
   "metadata": {},
   "source": [
    "In this notebook we very quickly retrieve all of the relevant counts for number of nodes and number of edges total for each node and edge type."
   ]
  },
  {
   "cell_type": "code",
   "execution_count": 13,
   "metadata": {},
   "outputs": [
    {
     "name": "stdout",
     "output_type": "stream",
     "text": [
      "Authors.Publications.Publications.edges.csv 21917\n",
      "Publications.nodes.csv 1640\n",
      "Awards.nodes.csv 683\n",
      "Publications.Awards.Awards.edges.csv 2807\n",
      "MeSH.MeSH.Publications.edges.csv 12380\n",
      "Awards.Awards.Publications.edges.csv 2807\n",
      "Awards.Awards.Authors.edges.csv 683\n",
      "Authors.Awards.Awards.edges.csv 683\n",
      "Authors.nodes.csv 14573\n",
      "Publications.Publications.Authors.edges.csv 21917\n",
      "MeSH.nodes.csv 2702\n",
      "Publications.MeSH.MeSH.edges.csv 12380\n",
      "Authors.Coauthors.Authors.edges.csv 568266\n"
     ]
    }
   ],
   "source": [
    "# Import statements\n",
    "import pandas as pd\n",
    "import os\n",
    "\n",
    "for file in os.listdir(\"./Network/\"):\n",
    "    if file.endswith(\".csv\"):\n",
    "        df = pd.read_csv(\"./Network/\" + file)\n",
    "        print(file, len(df))\n"
   ]
  },
  {
   "cell_type": "code",
   "execution_count": null,
   "metadata": {},
   "outputs": [],
   "source": []
  }
 ],
 "metadata": {
  "kernelspec": {
   "display_name": "base",
   "language": "python",
   "name": "python3"
  },
  "language_info": {
   "codemirror_mode": {
    "name": "ipython",
    "version": 3
   },
   "file_extension": ".py",
   "mimetype": "text/x-python",
   "name": "python",
   "nbconvert_exporter": "python",
   "pygments_lexer": "ipython3",
   "version": "3.12.2"
  }
 },
 "nbformat": 4,
 "nbformat_minor": 2
}
