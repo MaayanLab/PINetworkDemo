{
 "cells": [
  {
   "attachments": {},
   "cell_type": "markdown",
   "metadata": {},
   "source": [
    "# Building the UI\n",
    "## Before we start (OPTIONAL)\n",
    "Before we start, it might be a good idea to fork this repository. This is to ensure that we can easily get a link to your schema.\n",
    "\n",
    "![fork](./img/fork.png)\n",
    "\n",
    "Once you forked the repo, you can then clone your own repository.\n",
    "\n",
    "## Introduction\n",
    "In addition to the Neo4j console and the notebook earlier, we can provide develop a public facing website that we can share with the public without providing them write access to the neo4j database.\n",
    "\n",
    "The UI provides single and two-term search where the latter uses allShortestPath to query all the shortest paths between two terms. To build the UI, we need to create a UI schema that is built using the data that was ingested in the graph db. This notebook automates the creation of this schema file."
   ]
  },
  {
   "cell_type": "code",
   "execution_count": 1,
   "metadata": {},
   "outputs": [],
   "source": [
    "import re\n",
    "import json\n",
    "from glob import glob\n",
    "import pandas as pd"
   ]
  },
  {
   "cell_type": "markdown",
   "metadata": {},
   "source": [
    "# Protocol 4 - 2"
   ]
  },
  {
   "cell_type": "code",
   "execution_count": 2,
   "metadata": {},
   "outputs": [],
   "source": [
    "# Make sure to include the final / otherwise this will fail.\n",
    "path_to_network = \"../construction/Network/\""
   ]
  },
  {
   "cell_type": "markdown",
   "metadata": {},
   "source": [
    "## Change the path to your network."
   ]
  },
  {
   "cell_type": "markdown",
   "metadata": {},
   "source": [
    "# Protocol 4 - 3"
   ]
  },
  {
   "attachments": {},
   "cell_type": "markdown",
   "metadata": {},
   "source": [
    "## Node Schema\n",
    "\n",
    "```\n",
    "\n",
    "{\n",
    "    \"node\": \"Publications\",\n",
    "    \"example\": [|\n",
    "        38648692,\n",
    "        39089348\n",
    "    ],\n",
    "    \"display\": [\n",
    "        {\n",
    "            \"label\": \"label\",\n",
    "            \"text\": \"${label}\",\n",
    "            \"type\": \"text\"\n",
    "        },\n",
    "        {\n",
    "            \"label\": \"Title\",\n",
    "            \"text\": \"${Title}\",\n",
    "            \"type\": \"text\"\n",
    "        },\n",
    "        {\n",
    "            \"label\": \"Authors\",\n",
    "            \"text\": \"${Authors}\",\n",
    "            \"type\": \"text\"\n",
    "        },\n",
    "        {\n",
    "            \"label\": \"Journal\",\n",
    "            \"text\": \"${Journal}\",\n",
    "            \"type\": \"text\"\n",
    "        },\n",
    "        {\n",
    "            \"label\": \"Publications ID\",\n",
    "            \"text\": \"${id}\",\n",
    "            \"type\": \"text\"\n",
    "        }\n",
    "    ],\n",
    "    \"relation\": [],\n",
    "    \"search\": [\n",
    "        \"id\",\n",
    "        \"label\"\n",
    "    ],\n",
    "    \"color\": \"#ADB2D4\"\n",
    "}\n",
    "\n",
    "\n",
    "```\n",
    "This is a node schema for the node \"Publications\". The example field will be displayed display as an example on the UI while the display field tells the UI what to display as a tooltip. Meanwhile, search tells the UI that we can search both id and label fields of the nodes. Node colors are automatically generated but can otherwise be set using the field color for more customization."
   ]
  },
  {
   "cell_type": "code",
   "execution_count": 3,
   "metadata": {},
   "outputs": [
    {
     "name": "stderr",
     "output_type": "stream",
     "text": [
      "<>:2: SyntaxWarning: invalid escape sequence '\\.'\n",
      "<>:2: SyntaxWarning: invalid escape sequence '\\.'\n",
      "/var/folders/4l/73ssnfdj1mg_zmt5ghdmqjjh0000gp/T/ipykernel_64273/4013982737.py:2: SyntaxWarning: invalid escape sequence '\\.'\n",
      "  node_pattern = \"(?P<directory>.+)/(?P<label>.+)\\.(?P<entity>.+)\\.csv\"\n"
     ]
    }
   ],
   "source": [
    "node_schema = []\n",
    "node_pattern = \"(?P<directory>.+)/(?P<label>.+)\\.(?P<entity>.+)\\.csv\"\n",
    "color_palette = [\"#ADB2D4\", \"#C7D9DD\", \"#D5E5D5\", \"#EEF1DA\"]\n",
    "counter = 0\n",
    "for filename in glob(path_to_network + \"*.nodes.csv\"):\n",
    "    match = re.match(node_pattern, filename).groupdict()\n",
    "    label = match[\"label\"].replace(\"_\", \" \")\n",
    "    df = pd.read_csv(filename)\n",
    "    display = []\n",
    "    for i in df.columns:\n",
    "        if i == \"id\":\n",
    "            display.append({\n",
    "                'label': '%s ID'%label,\n",
    "                'text': \"${%s}\"%i,\n",
    "                'type': 'text'\n",
    "            })\n",
    "        else:\n",
    "            val = str(df.at[0, i])\n",
    "            if val.startswith(\"http\"):\n",
    "                display.append({\n",
    "                    'label': i,\n",
    "                    'text': \"${%s}\"%i,\n",
    "                    'href': \"${%s}\"%i,\n",
    "                    'type': 'link'\n",
    "                })\n",
    "            else:\n",
    "                display.append({\n",
    "                    'label': i,\n",
    "                    'text': \"${%s}\"%i,\n",
    "                    'type': 'text'\n",
    "                })\n",
    "    examples = [str(x) for x in list(df.head(2).label)]\n",
    "    color = color_palette[counter % len(color_palette)]\n",
    "    node = {\n",
    "        \"node\": label,\n",
    "        \"example\": examples,\n",
    "        \"display\": display,\n",
    "        \"relation\": [],\n",
    "        \"search\": [\n",
    "            \"label\"\n",
    "        ],\n",
    "        \"color\": color\n",
    "    }\n",
    "    node_schema.append(node)\n",
    "    counter += 1\n",
    "        "
   ]
  },
  {
   "cell_type": "markdown",
   "metadata": {},
   "source": [
    "# Protocol 4 - 4"
   ]
  },
  {
   "attachments": {},
   "cell_type": "markdown",
   "metadata": {},
   "source": [
    "## Edge Schema\n",
    "```\n",
    "{\n",
    "    \"match\": [\n",
    "        \"Publications\"\n",
    "    ],\n",
    "    \"selected\": true,\n",
    "    \"color\":\"#C7D9DD\",\n",
    "    \"directed\": \"triangle\",\n",
    "    \"display\": [\n",
    "        {\n",
    "            \"label\": \"target label\",\n",
    "            \"text\": \"${target_label}\",\n",
    "            \"type\": \"text\"\n",
    "        },\n",
    "        {\n",
    "            \"label\": \"source label\",\n",
    "            \"text\": \"${source_label}\",\n",
    "            \"type\": \"text\"\n",
    "        },\n",
    "        {\n",
    "            \"label\": \"relation\",\n",
    "            \"text\": \"${relation}\",\n",
    "            \"type\": \"text\"\n",
    "        },\n",
    "        {\n",
    "            \"label\": \"source\",\n",
    "            \"text\": \"${source}\",\n",
    "            \"type\": \"text\"\n",
    "        },\n",
    "        {\n",
    "            \"label\": \"target\",\n",
    "            \"text\": \"${target}\",\n",
    "            \"type\": \"text\"\n",
    "        }\n",
    "    ]\n",
    "}\n",
    "```\n",
    "\n",
    "This is the same with node schema with a few differences, first match allows you to match multiple edge types and selected is a field that allows us to select what edges are queried by default when doing two term searches."
   ]
  },
  {
   "cell_type": "code",
   "execution_count": 4,
   "metadata": {},
   "outputs": [
    {
     "name": "stdout",
     "output_type": "stream",
     "text": [
      "../construction/Network/Authors.Publications.Publications.edges.csv\n",
      "../construction/Network/Publications.Awards.Awards.edges.csv\n",
      "../construction/Network/MeSH.MeSH.Publications.edges.csv\n",
      "../construction/Network/Awards.Awards.Publications.edges.csv\n",
      "../construction/Network/Awards.Awards.Authors.edges.csv\n",
      "../construction/Network/Authors.Awards.Awards.edges.csv\n",
      "../construction/Network/Publications.Publications.Authors.edges.csv\n",
      "../construction/Network/Publications.MeSH.MeSH.edges.csv\n",
      "../construction/Network/Authors.Coauthors.Authors.edges.csv\n"
     ]
    },
    {
     "name": "stderr",
     "output_type": "stream",
     "text": [
      "<>:2: SyntaxWarning: invalid escape sequence '\\.'\n",
      "<>:2: SyntaxWarning: invalid escape sequence '\\.'\n",
      "/var/folders/4l/73ssnfdj1mg_zmt5ghdmqjjh0000gp/T/ipykernel_64273/3187522818.py:2: SyntaxWarning: invalid escape sequence '\\.'\n",
      "  edge_pattern = \"(?P<directory>.+)/(?P<source_type>.+)\\.(?P<relation>.+)\\.(?P<target_type>.+)\\.(?P<entity>.+)\\.csv\"\n"
     ]
    }
   ],
   "source": [
    "edge_schema = []\n",
    "edge_pattern = \"(?P<directory>.+)/(?P<source_type>.+)\\.(?P<relation>.+)\\.(?P<target_type>.+)\\.(?P<entity>.+)\\.csv\"\n",
    "\n",
    "for filename in glob(path_to_network + \"*.edges.csv\"):\n",
    "   print(filename)\n",
    "   match = re.match(edge_pattern, filename).groupdict()\n",
    "   entity = match[\"entity\"]\n",
    "   source_type = match[\"source_type\"]\n",
    "   relation = match[\"relation\"].replace(\"_\", \" \")\n",
    "   edge = {\n",
    "      \"match\": [relation],\n",
    "      \"selected\": True,\n",
    "   }\n",
    "   df = pd.read_csv(filename)\n",
    "   display = []\n",
    "   for i in df.columns:\n",
    "      if i == \"id\":\n",
    "         display.append({\n",
    "               'label': '%s ID'%label,\n",
    "               'text': \"${%s}\"%i,\n",
    "               'type': 'text'\n",
    "         })\n",
    "      else:\n",
    "         val = str(df.at[0, i])\n",
    "         if val.startswith(\"http\"):\n",
    "               display.append({\n",
    "                  'label': i.replace(\"_\", \" \"),\n",
    "                  'text': \"${%s}\"%i,\n",
    "                  'href': \"${%s}\"%i,\n",
    "                  'type': 'link'\n",
    "               })\n",
    "         else:\n",
    "               display.append({\n",
    "                  'label': i.replace(\"_\", \" \"),\n",
    "                  'text': \"${%s}\"%i,\n",
    "                  'type': 'text'\n",
    "               })\n",
    "         edge[\"display\"] = display\n",
    "   edge_schema.append(edge)\n",
    "         "
   ]
  },
  {
   "cell_type": "markdown",
   "metadata": {},
   "source": [
    "# Protocol 4 - 5"
   ]
  },
  {
   "cell_type": "markdown",
   "metadata": {},
   "source": [
    "## Header Schema"
   ]
  },
  {
   "cell_type": "markdown",
   "metadata": {},
   "source": [
    "\n",
    "The next part is defining the header portion of the schema that you can use to modify our UI. Notice the tabs field, this is where we define the pages in our knowledge graph as well as the components that you want to render.\n",
    "\n",
    "Currently we have the following components available:\n",
    "1. KnowledgeGraph: this renders the single and two term search components\n",
    "2. Markdown: this is for rendering static markdown files, useful for tutorials\n",
    "3. Enrichment: For an enrichment page.\n",
    "   \n",
    "Each component takes specific props like init_function that initializes/prefetches the static props for the page. For this example, we only look at the KnowledgeGraph component. For more information on how to use the other components you can check: https://maayanlab.cloud/enrichr-kg/api/knowledge_graph/schema."
   ]
  },
  {
   "cell_type": "code",
   "execution_count": 5,
   "metadata": {},
   "outputs": [],
   "source": [
    "# First you need to modify this based on your dataset. \n",
    "# This will be the initial query that the users will see when visiting your site\n",
    "initial_query = {\n",
    "\t\"start\": \"Authors\",\n",
    "\t\"start_term\": \"Robert O Wright\",\n",
    "\t\"start_field\": \"label\"\n",
    "}\n",
    "\n",
    "title = \"Demo-KG\"\n",
    "icon = \"https://minio.dev.maayanlab.cloud/enrichr-kg/enrichr-kg.png\"\n",
    "header = {\n",
    "\t\t\"header\": title,\n",
    "\t\t\"title\": title,\n",
    "\t\t\"background\": {\n",
    "\t\t\t\"backgroundColor\": \"#000\",\n",
    "\t\t\t\"contrastText\": \"#FFF\"\n",
    "\t\t},\n",
    "\t\t\"icon\": {\n",
    "\t\t\t\"src\": icon,\n",
    "\t\t\t\"favicon\": icon,\n",
    "\t\t\t\"faviconTitle\": title,\n",
    "\t\t\t\"alt\": title,\n",
    "\t\t\t\"key\": \"%s_logo\"%title,\n",
    "\t\t\t\"width\": 100,\n",
    "\t\t\t\"height\": 60\n",
    "\t\t},\n",
    "\t\t\"tabs\": [\n",
    "\t\t\t{\n",
    "\t\t\t\t\"endpoint\": \"/\",\n",
    "\t\t\t\t\"label\": \"Term & Gene Search\",\n",
    "\t\t\t\t\"type\": \"page\",\n",
    "\t\t\t\t\"component\": \"KnowledgeGraph\",\n",
    "\t\t\t\t\"props\": {\n",
    "\t\t\t\t\t\"init_function\": \"initialize_kg\",\n",
    "\t\t\t\t\t\"initial_query\": initial_query,\n",
    "\t\t\t\t\t\"subheader\": {\n",
    "\t\t\t\t\t\t\"url_field\": \"filter\",\n",
    "\t\t\t\t\t\t\"query_field\": \"relation\"\n",
    "\t\t\t\t\t}\n",
    "\t\t\t\t}\n",
    "\t\t\t\t}\n",
    "\t\t]\n",
    "}"
   ]
  },
  {
   "attachments": {},
   "cell_type": "markdown",
   "metadata": {},
   "source": [
    "# Protocol 4-7\n"
   ]
  },
  {
   "cell_type": "markdown",
   "metadata": {},
   "source": [
    "## Footer Schema"
   ]
  },
  {
   "cell_type": "markdown",
   "metadata": {},
   "source": [
    "The next part is the footer portion of the schema that you can use to modify our UI. The footer contains three different fields \"style\",\"layout\", and \"footer_text\". The style field defines the background and font color, whereas layout is an array of arrays where the outer array indicates the column of the footer, and the inner array(s) indicates the rows of the footer. Within the layout you can easily declare different components like logos, links, etc. The \"footer_text\" field allows for creation of text in the footer."
   ]
  },
  {
   "cell_type": "code",
   "execution_count": 6,
   "metadata": {},
   "outputs": [],
   "source": [
    "footer = {\n",
    "\t\t\"style\": {\n",
    "            \"background\": \"#000\",\n",
    "            \"color\": \"#FFF\"\n",
    "        },\n",
    "\t\t\"layout\": [\n",
    "\t\t\t[\n",
    "\t\t\t\t{\n",
    "                    \"component\": \"logo\",\n",
    "                    \"props\": {\n",
    "                        \"src\": \"https://minio.dev.maayanlab.cloud/enrichr-kg/enrichr-kg.png\",\n",
    "                        \"alt\": \"enrichr-kg\",\n",
    "                        \"title\": \"Demo-KG\",\n",
    "                        \"color\": \"inherit\",\n",
    "                        \"size\": \"small\"\n",
    "                    }\n",
    "                },\n",
    "\t\t\t\t{\n",
    "                    \"component\": \"github\",\n",
    "                    \"props\": {\n",
    "                        \"code\": \"https://github.com/MaayanLab/Knowledge-Graph-UI\",\n",
    "                        \"issues\": \"https://github.com/MaayanLab/Knowledge-Graph-UI/issues/new\"\n",
    "                    }\n",
    "                }\n",
    "\t\t\t],\n",
    "\t\t\t[\n",
    "\t\t\t\t{\n",
    "\t\t\t\t\t\"component\": \"icon\",\n",
    "\t\t\t\t\t\"props\": {\n",
    "\t\t\t\t\t\t\"type\": \"icon\",\n",
    "\t\t\t\t\t\t\"key\": \"lab_icon\",\n",
    "\t\t\t\t\t\t\"src\": \"https://minio.dev.maayanlab.cloud/enrichr-kg/maayanlab.png\",\n",
    "\t\t\t\t\t\t\"alt\": \"MaayanLab\",\n",
    "\t\t\t\t\t\t\"href\": \"https://labs.icahn.mssm.edu/maayanlab/\",\n",
    "\t\t\t\t\t\t\"height\": 60,\n",
    "\t\t\t\t\t\t\"width\": 150\n",
    "\t\t\t\t\t}\n",
    "\t\t\t\t  }\n",
    "\t\t\t],\n",
    "\t\t\t[\n",
    "\t\t\t\t{\n",
    "\t\t\t\t\t\"component\": \"icon\",\n",
    "\t\t\t\t\t\"props\": {\n",
    "\t\t\t\t\t\t\"type\": \"icon\",\n",
    "\t\t\t\t\t\t\"key\": \"center_icon\",\n",
    "\t\t\t\t\t\t\"src\": \"https://minio.dev.maayanlab.cloud/enrichr-kg/bioinformatics.png\",\n",
    "\t\t\t\t\t\t\"alt\": \"COB\",\n",
    "\t\t\t\t\t\t\"href\": \"https://icahn.mssm.edu/research/bioinformatics\",\n",
    "\t\t\t\t\t\t\"height\": 60,\n",
    "\t\t\t\t\t\t\"width\": 150\n",
    "\t\t\t\t\t}\n",
    "\t\t\t\t  }\n",
    "\t\t\t]\n",
    "\t\t],\n",
    "\t\t\"footer_text\": \"<span style='color:white'>Please acknowledge Enrichr-KG in your publications by citing the following reference:<br><a style='color: cyan' href='https://doi.org/10.1093/nar/gkad393'>Evangelista JE, Xie Z, Marino GB, Nguyen N, Clarke DJB, Ma'ayan A. Enrichr-KG: bridging enrichment analysis across multiple libraries. Nucleic Acids Res. 2023 May 11:gkad393. doi: 10.1093/nar/gkad393. PMID: 37166973.</a></span>\"\n",
    "}"
   ]
  },
  {
   "cell_type": "markdown",
   "metadata": {},
   "source": [
    "# Protocol 4 - 8"
   ]
  },
  {
   "cell_type": "markdown",
   "metadata": {},
   "source": [
    "## Define the theme and put together the whole schema."
   ]
  },
  {
   "cell_type": "markdown",
   "metadata": {},
   "source": [
    "Here we declare the UI theme for the schema and concatenate and join the header and footer to write out the whole schema."
   ]
  },
  {
   "cell_type": "code",
   "execution_count": 7,
   "metadata": {},
   "outputs": [],
   "source": [
    "\n",
    "rest = {\n",
    "\t\"header\": header,\n",
    "\t\"footer\": footer,\n",
    "\t\"ui_theme\": \"enrichr_kg_theme\"\n",
    "}"
   ]
  },
  {
   "attachments": {},
   "cell_type": "markdown",
   "metadata": {},
   "source": [
    "## Putting it all together"
   ]
  },
  {
   "cell_type": "code",
   "execution_count": 8,
   "metadata": {},
   "outputs": [],
   "source": [
    "schema = {\n",
    "    \"nodes\": node_schema,\n",
    "    \"edges\": edge_schema,\n",
    "    **rest\n",
    "}\n",
    "\n",
    "with open(\"../schema_sample.json\", 'w') as o:\n",
    "    o.write(json.dumps(schema, indent=4))"
   ]
  },
  {
   "attachments": {},
   "cell_type": "markdown",
   "metadata": {},
   "source": [
    "Once you have the schema you can upload it somewhere to obtain a link of the file. If you forked the repo you can commit it and push to your forked repository.\n",
    "\n",
    "```\n",
    "git add schema.json\n",
    "git commit -m updated schema\n",
    "git push\n",
    "```\n",
    "\n",
    "To get the link, go to schema.json on github and click raw:\n",
    "\n",
    "![raw](./img/raw.png)\n",
    "![raw_link](./img/raw_link.png)"
   ]
  }
 ],
 "metadata": {
  "kernelspec": {
   "display_name": "Python 3 (ipykernel)",
   "language": "python",
   "name": "python3"
  },
  "language_info": {
   "codemirror_mode": {
    "name": "ipython",
    "version": 3
   },
   "file_extension": ".py",
   "mimetype": "text/x-python",
   "name": "python",
   "nbconvert_exporter": "python",
   "pygments_lexer": "ipython3",
   "version": "3.13.3"
  }
 },
 "nbformat": 4,
 "nbformat_minor": 4
}
