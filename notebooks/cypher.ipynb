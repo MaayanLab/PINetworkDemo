{
 "cells": [
  {
   "attachments": {},
   "cell_type": "markdown",
   "metadata": {},
   "source": [
    "# Cypher Query Language\n",
    "Unlike relational databases, graph databases do not have a uniform query language. Platforms typically build their own query languages. Cypher was originally built for Neo4j but was later opened up via the OpenCypher project (https://opencypher.org/).\n",
    "\n",
    "## Preliminaries\n",
    "To start querying our Neo4j database, we have two options:\n",
    "* Go to http://localhost:7474 to access Neo4j's console\n",
    "* Use this notebook that uses the combination of [py2neo](https://py2neo.org/2021.1/) and [ipycytoscape](https://github.com/cytoscape/ipycytoscape) to generate graph visualizations in this jupyter notebook. This notebook will focus on creating cypher queries, so we won't delve on the libraries that were used. The `cypher` function provided below should take care of querying and plotting your cypher queries. If you want to learn more about these libraries, you can click on their respective links above.\n",
    "\n",
    "### Importing libraries"
   ]
  },
  {
   "cell_type": "code",
   "execution_count": 54,
   "metadata": {},
   "outputs": [],
   "source": [
    "import os\n",
    "import requests\n",
    "import ipycytoscape\n",
    "from py2neo import Graph\n",
    "import seaborn as sns\n",
    "import random\n",
    "from dotenv import load_dotenv"
   ]
  },
  {
   "attachments": {},
   "cell_type": "markdown",
   "metadata": {},
   "source": [
    "### Loading environment variables and connecting to the Neo4j database"
   ]
  },
  {
   "cell_type": "code",
   "execution_count": 55,
   "metadata": {},
   "outputs": [],
   "source": [
    "load_dotenv()\n",
    "graph = Graph(os.getenv('NEO4j_URL'), auth=(os.getenv('NEO4J_USER'), os.getenv('NEO4J_PASSWORD')))"
   ]
  },
  {
   "attachments": {},
   "cell_type": "markdown",
   "metadata": {},
   "source": [
    "### Cypher query function\n",
    "This function is built so we can start building cypher queries quickly (same as using Neo4j console). Feel free to look at the following libraries for more information:\n",
    "* [py2neo](https://py2neo.org/2021.1/)\n",
    "* [cytoscape.js](https://js.cytoscape.org/)\n",
    "* [ipycytoscape](https://github.com/cytoscape/ipycytoscape)"
   ]
  },
  {
   "cell_type": "code",
   "execution_count": 56,
   "metadata": {},
   "outputs": [],
   "source": [
    "style = [{\n",
    "                            \"selector\": 'node',\n",
    "                            \"style\": {\n",
    "                            'background-color': 'data(color)',\n",
    "                            'border-color': 'data(borderColor)',\n",
    "                            'border-width': 'data(borderWidth)',\n",
    "                            'label': 'data(label)',\n",
    "                            \"text-valign\": \"center\",\n",
    "                            \"text-halign\": \"center\",\n",
    "                            'width': \"50\",\n",
    "                            'height': \"50\",\n",
    "                            }\n",
    "                        },\n",
    "                        {\n",
    "                            \"selector\": 'edge',\n",
    "                            \"style\": {\n",
    "                            'curve-style': 'straight',\n",
    "                            'line-color': 'data(lineColor)',\n",
    "                            'width': '3',\n",
    "                            'label': 'data(relation)',\n",
    "                            \"text-rotation\": \"autorotate\",\n",
    "                            \"text-margin-x\": \"0px\",\n",
    "                            \"text-margin-y\": \"0px\",\n",
    "                            'font-size': '12px',\n",
    "                            'target-arrow-shape': \"data(directed)\",\n",
    "                            'target-endpoint': 'outside-to-node',\n",
    "                            'source-endpoint': 'outside-to-node',\n",
    "                            'target-arrow-color': 'data(lineColor)',\n",
    "                            }\n",
    "                        },\n",
    "                        {\n",
    "                            \"selector\": 'node.highlight',\n",
    "                            \"style\": {\n",
    "                                'border-color': 'gray',\n",
    "                                'border-width': '2px',\n",
    "                                'font-weight': 'bold',\n",
    "                                'font-size': '18px',\n",
    "                                'width': \"90\",\n",
    "                                'height': \"90\",\n",
    "                            }\n",
    "                        },\n",
    "                        {\n",
    "                            \"selector\": 'node.focused',\n",
    "                            \"style\": {\n",
    "                                'border-color': 'gray',\n",
    "                                'border-width': '2px',\n",
    "                                'font-weight': 'bold',\n",
    "                                'font-size': '18px',\n",
    "                                'width': \"90\",\n",
    "                                'height': \"90\",\n",
    "                            }\n",
    "                        },\n",
    "                        {\n",
    "                            \"selector\": 'edge.focusedColored',\n",
    "                            \"style\": {\n",
    "                                'line-color': '#F8333C',\n",
    "                                'width': '6'\n",
    "                            }\n",
    "                        },\n",
    "                        {\n",
    "                            \"selector\": 'node.semitransp',\n",
    "                            \"style\":{ 'opacity': '0.5' }\n",
    "                        },\n",
    "                        {\n",
    "                            \"selector\": 'node.focusedSemitransp',\n",
    "                            \"style\":{ 'opacity': '0.5' }\n",
    "                        },\n",
    "                        {\n",
    "                            \"selector\": 'edge.colored',\n",
    "                            \"style\": {\n",
    "                                'line-color': '#F8333C',\n",
    "                                'target-arrow-color': '#F8333C',\n",
    "                                'width': '6'\n",
    "                            }\n",
    "                        },\n",
    "                        {\n",
    "                            \"selector\": 'edge.semitransp',\n",
    "                            \"style\":{ 'opacity': '0.5' }\n",
    "                        },\n",
    "                        {\n",
    "                            \"selector\": 'edge.focusedSemitransp',\n",
    "                            \"style\":{ 'opacity': '0.5' }\n",
    "                        }]"
   ]
  },
  {
   "cell_type": "code",
   "execution_count": 57,
   "metadata": {},
   "outputs": [],
   "source": [
    "palette = sns.color_palette().as_hex()\n",
    "def cypher(query):\n",
    "    if query == \"\": return\n",
    "    results = graph.run(query).data()\n",
    "    nodes = []\n",
    "    edges = []\n",
    "    colors = {}\n",
    "    for i in results:\n",
    "        for vals in i.values():\n",
    "            for node in vals.nodes:\n",
    "                label = str(node.labels)\n",
    "                if label not in colors:\n",
    "                    colors[label] = palette[len(colors) % len(sns.color_palette())]\n",
    "                color = colors[label]\n",
    "                n = {\"kind\": label, \"color\": color}\n",
    "                for k,v in node.items():\n",
    "                    n[k] = v\n",
    "                nodes.append(n)\n",
    "            for relation in vals.relationships:\n",
    "                r = {\n",
    "                    \"kind\": \"relation\",\n",
    "                    \"source\": relation.nodes[0][\"id\"],\n",
    "                    \"target\": relation.nodes[1][\"id\"]\n",
    "                    }\n",
    "                for k,v in relation.items():\n",
    "                    r[k] = v\n",
    "                edges.append(r)      \n",
    "    cytoscapeobj = ipycytoscape.CytoscapeWidget()\n",
    "    cytoscapeobj.graph.add_graph_from_json({\n",
    "        \"nodes\": nodes,\n",
    "        \"edges\": edges\n",
    "    }) \n",
    "    cytoscapeobj.set_style(style)\n",
    "    return cytoscapeobj\n"
   ]
  },
  {
   "attachments": {},
   "cell_type": "markdown",
   "metadata": {},
   "source": [
    "## Cypher Query\n",
    "\n",
    "### Querying nodes\n",
    "Let's dissect this cypher query:\n",
    "```MATCH (a:`Authors` {label: 'Robert O Wright'}) RETURN a```\n",
    "  * The `MATCH` keyword queries for nodes/relations/paths that matches the succeeding statement\n",
    "  * Queries wrapped in parenthesis are matched on nodes. In this case, we want to match Authors nodes and we want the node to have the label, Robert O Wright.\n",
    "  * The `a` preceding the filter is the variable where we store the results. This is the variable that we then return and display as a graph."
   ]
  },
  {
   "cell_type": "code",
   "execution_count": 58,
   "metadata": {},
   "outputs": [
    {
     "data": {
      "application/vnd.jupyter.widget-view+json": {
       "model_id": "fae4c9c2bf574ec9a611b3c7cd235b59",
       "version_major": 2,
       "version_minor": 0
      },
      "text/plain": [
       "CytoscapeWidget(cytoscape_layout={'name': 'cola'}, cytoscape_style=[{'selector': 'node', 'style': {'background…"
      ]
     },
     "execution_count": 58,
     "metadata": {},
     "output_type": "execute_result"
    }
   ],
   "source": [
    "query = \"MATCH (a) RETURN a LIMIT 5\"\n",
    "cypher(query)"
   ]
  },
  {
   "cell_type": "code",
   "execution_count": 59,
   "metadata": {},
   "outputs": [
    {
     "data": {
      "application/vnd.jupyter.widget-view+json": {
       "model_id": "87261594154441b79b3d87ba69bacbb9",
       "version_major": 2,
       "version_minor": 0
      },
      "text/plain": [
       "CytoscapeWidget(cytoscape_layout={'name': 'cola'}, cytoscape_style=[{'selector': 'node', 'style': {'background…"
      ]
     },
     "execution_count": 59,
     "metadata": {},
     "output_type": "execute_result"
    }
   ],
   "source": [
    "query = \"MATCH (n:`Authors`) RETURN n LIMIT 5\"\n",
    "cypher(query)"
   ]
  },
  {
   "cell_type": "code",
   "execution_count": 60,
   "metadata": {},
   "outputs": [
    {
     "data": {
      "application/vnd.jupyter.widget-view+json": {
       "model_id": "74131d36ff7644e1af871e48a8da6189",
       "version_major": 2,
       "version_minor": 0
      },
      "text/plain": [
       "CytoscapeWidget(cytoscape_layout={'name': 'cola'}, cytoscape_style=[{'selector': 'node', 'style': {'background…"
      ]
     },
     "execution_count": 60,
     "metadata": {},
     "output_type": "execute_result"
    }
   ],
   "source": [
    "query = \"MATCH (a:`Authors` {label: 'Robert O Wright'}) RETURN a LIMIT 5\"\n",
    "cypher(query)"
   ]
  },
  {
   "attachments": {},
   "cell_type": "markdown",
   "metadata": {},
   "source": [
    "Without any filter, our graph database will match any type of nodes and return them. For this reason, it's ideal to set up a limit to not overwhelm our results:"
   ]
  },
  {
   "attachments": {},
   "cell_type": "markdown",
   "metadata": {},
   "source": [
    "### Querying relations\n",
    "Let's dissect this cypher query:\n",
    "```MATCH ()-[r:`Coauthors`]->() RETURN r LIMIT 10```\n",
    "  * Queries wrapped in square braces matches a relation. In this case we are matching for Coauthors edges. Similar to nodes, we can add curly braces to filter edges by property.\n",
    "  * `()` denotes any node. These are not assigned to any variable.\n",
    "  * Edges can have directions based on the arrow:\n",
    "    * `()-[]->()`\n",
    "    * `()<-[]-()`\n",
    "  * Alternatively, setting the query to * `()-[]-()` makes it agnostic to the directionality of the edges."
   ]
  },
  {
   "cell_type": "code",
   "execution_count": 61,
   "metadata": {},
   "outputs": [
    {
     "data": {
      "application/vnd.jupyter.widget-view+json": {
       "model_id": "f19edf0ac2414a19b84a7fb7d8dc458f",
       "version_major": 2,
       "version_minor": 0
      },
      "text/plain": [
       "CytoscapeWidget(cytoscape_layout={'name': 'cola'}, cytoscape_style=[{'selector': 'node', 'style': {'background…"
      ]
     },
     "execution_count": 61,
     "metadata": {},
     "output_type": "execute_result"
    }
   ],
   "source": [
    "query = \"MATCH ()-[r:`Coauthors`]->() RETURN r LIMIT 10\"\n",
    "cypher(query)"
   ]
  },
  {
   "attachments": {},
   "cell_type": "markdown",
   "metadata": {},
   "source": [
    "### Querying Neighbors\n",
    "Find immediate neighbors of a gene"
   ]
  },
  {
   "cell_type": "code",
   "execution_count": 62,
   "metadata": {},
   "outputs": [
    {
     "data": {
      "application/vnd.jupyter.widget-view+json": {
       "model_id": "967f3a44c0e8434fbaeeeee512f6fc0c",
       "version_major": 2,
       "version_minor": 0
      },
      "text/plain": [
       "CytoscapeWidget(cytoscape_layout={'name': 'cola'}, cytoscape_style=[{'selector': 'node', 'style': {'background…"
      ]
     },
     "execution_count": 62,
     "metadata": {},
     "output_type": "execute_result"
    }
   ],
   "source": [
    "query = \"MATCH p=(a:Authors {label: 'Robert O Wright'})-[]-() RETURN p LIMIT 10\"\n",
    "cypher(query)"
   ]
  },
  {
   "attachments": {},
   "cell_type": "markdown",
   "metadata": {},
   "source": [
    "### Checkpoint Exercise:\n",
    "Create a query that returns 10 terms that are connected with the PI Sacha Gnjatic. "
   ]
  },
  {
   "cell_type": "code",
   "execution_count": 63,
   "metadata": {},
   "outputs": [
    {
     "data": {
      "application/vnd.jupyter.widget-view+json": {
       "model_id": "2b467a53ee954fc69a222d0a2a1e9e32",
       "version_major": 2,
       "version_minor": 0
      },
      "text/plain": [
       "CytoscapeWidget(cytoscape_layout={'name': 'cola'}, cytoscape_style=[{'selector': 'node', 'style': {'background…"
      ]
     },
     "execution_count": 63,
     "metadata": {},
     "output_type": "execute_result"
    }
   ],
   "source": [
    "query = \"MATCH p=(a:Authors {label: 'Sacha Gnjatic'})-[]-() RETURN p LIMIT 10\"\n",
    "cypher(query)"
   ]
  },
  {
   "attachments": {},
   "cell_type": "markdown",
   "metadata": {},
   "source": [
    "### Checkpoint Exercise:\n",
    "Create a query that returns all terms that are connected with the PI Sacha Gnjatic with the relationship Publications."
   ]
  },
  {
   "cell_type": "code",
   "execution_count": 64,
   "metadata": {},
   "outputs": [
    {
     "data": {
      "application/vnd.jupyter.widget-view+json": {
       "model_id": "180c3d952d344a7d9339816220b177f2",
       "version_major": 2,
       "version_minor": 0
      },
      "text/plain": [
       "CytoscapeWidget(cytoscape_layout={'name': 'cola'}, cytoscape_style=[{'selector': 'node', 'style': {'background…"
      ]
     },
     "execution_count": 64,
     "metadata": {},
     "output_type": "execute_result"
    }
   ],
   "source": [
    "query = \"MATCH p=(a:Authors {label: 'Sacha Gnjatic'})-[r:Coauthors]-() RETURN p LIMIT 10\"\n",
    "cypher(query)"
   ]
  },
  {
   "attachments": {},
   "cell_type": "markdown",
   "metadata": {},
   "source": [
    "## Querying longer paths\n",
    "Suppose we want to discover a path of length 2 that connects the author Sacha Gnjatic to the author Alexander Tepper. There are several ways of doing this:\n",
    "\n",
    "First we can define a path using components that we already know like this:"
   ]
  },
  {
   "cell_type": "code",
   "execution_count": 66,
   "metadata": {},
   "outputs": [
    {
     "data": {
      "application/vnd.jupyter.widget-view+json": {
       "model_id": "a4f8bdf7f1ef4fcb93dc83a10b2591db",
       "version_major": 2,
       "version_minor": 0
      },
      "text/plain": [
       "CytoscapeWidget(cytoscape_layout={'name': 'cola'}, cytoscape_style=[{'selector': 'node', 'style': {'background…"
      ]
     },
     "execution_count": 66,
     "metadata": {},
     "output_type": "execute_result"
    }
   ],
   "source": [
    "query = \"MATCH p=(:Authors {label: 'Sacha Gnjatic'})-[]-()-[]-(:Authors {label: 'Alexander Tepper'}) RETURN p LIMIT 10\"\n",
    "cypher(query)"
   ]
  },
  {
   "attachments": {},
   "cell_type": "markdown",
   "metadata": {},
   "source": [
    "Alternatively, we can use variable length pattern matching:\n",
    "\n",
    "```MATCH p=(:Authors {label: 'Sacha Gnjatic'})-[*2]-(:Authors {label: 'Alexander Tepper'}) RETURN p LIMIT 10```\n",
    "\n",
    "This query allows us to skip defining intermediate nodes and just specify the length of the path in the square braces. Note that there may be some subtle differences on how the graph db's algorithm discover and prioritizes paths between two methods especially if you are using limits."
   ]
  },
  {
   "cell_type": "code",
   "execution_count": 67,
   "metadata": {},
   "outputs": [
    {
     "data": {
      "application/vnd.jupyter.widget-view+json": {
       "model_id": "13e85cb3b59940b59d728aeb8bf20329",
       "version_major": 2,
       "version_minor": 0
      },
      "text/plain": [
       "CytoscapeWidget(cytoscape_layout={'name': 'cola'}, cytoscape_style=[{'selector': 'node', 'style': {'background…"
      ]
     },
     "execution_count": 67,
     "metadata": {},
     "output_type": "execute_result"
    }
   ],
   "source": [
    "query = \"MATCH p=(:Authors {label: 'Sacha Gnjatic'})-[*2]-(:Authors {label: 'Alexander Tepper'}) RETURN p LIMIT 10\"\n",
    "cypher(query)"
   ]
  },
  {
   "attachments": {},
   "cell_type": "markdown",
   "metadata": {},
   "source": [
    "Variable pattern matching are particularly useful if you want to set a minimum or maximum length of a path, the next query finds path with a minimum length of 2 and maximum length of 4:"
   ]
  },
  {
   "cell_type": "code",
   "execution_count": 68,
   "metadata": {},
   "outputs": [
    {
     "data": {
      "application/vnd.jupyter.widget-view+json": {
       "model_id": "b5b5a1614dba4b5889f441c3118e42eb",
       "version_major": 2,
       "version_minor": 0
      },
      "text/plain": [
       "CytoscapeWidget(cytoscape_layout={'name': 'cola'}, cytoscape_style=[{'selector': 'node', 'style': {'background…"
      ]
     },
     "execution_count": 68,
     "metadata": {},
     "output_type": "execute_result"
    }
   ],
   "source": [
    "query = \"MATCH p=(:Authors {label: 'Sacha Gnjatic'})-[*2..4]-(:Authors {label: 'Alexander Tepper'}) RETURN p LIMIT 10\"\n",
    "cypher(query)"
   ]
  },
  {
   "attachments": {},
   "cell_type": "markdown",
   "metadata": {},
   "source": [
    "### Checkpoint Exercise:\n",
    "Find at least 1 shared Publications between Authors 'Sacha Gnjatic' and 'Alexander Tepper':"
   ]
  },
  {
   "cell_type": "code",
   "execution_count": 14,
   "metadata": {},
   "outputs": [],
   "source": [
    "query = \"\"\n",
    "cypher(query)"
   ]
  },
  {
   "attachments": {},
   "cell_type": "markdown",
   "metadata": {},
   "source": [
    "### allShortestPaths\n",
    "Another option is to use the allShortestPaths function, this returns the all the shortest paths between two nodes:"
   ]
  },
  {
   "cell_type": "code",
   "execution_count": 69,
   "metadata": {},
   "outputs": [
    {
     "data": {
      "application/vnd.jupyter.widget-view+json": {
       "model_id": "db5305dab06b4a8a961f46af7af5408d",
       "version_major": 2,
       "version_minor": 0
      },
      "text/plain": [
       "CytoscapeWidget(cytoscape_layout={'name': 'cola'}, cytoscape_style=[{'selector': 'node', 'style': {'background…"
      ]
     },
     "execution_count": 69,
     "metadata": {},
     "output_type": "execute_result"
    }
   ],
   "source": [
    "query = \"MATCH p=allShortestPaths((:`Authors` {label: 'Sacha Gnjatic'})-[*]-(:`Authors` {label: 'Alexander Tepper'})) RETURN p LIMIT 10\"\n",
    "cypher(query)"
   ]
  },
  {
   "attachments": {},
   "cell_type": "markdown",
   "metadata": {},
   "source": [
    "## Cypher resources\n",
    "\n",
    "This notebook provides an overview on creating Cypher queries but this is by no means exhaustive. To learn more about cypher queries, you can check the cypher manual here: https://neo4j.com/docs/cypher-manual/current/"
   ]
  }
 ],
 "metadata": {
  "kernelspec": {
   "display_name": "maayanlab",
   "language": "python",
   "name": "python3"
  },
  "language_info": {
   "codemirror_mode": {
    "name": "ipython",
    "version": 3
   },
   "file_extension": ".py",
   "mimetype": "text/x-python",
   "name": "python",
   "nbconvert_exporter": "python",
   "pygments_lexer": "ipython3",
   "version": "3.13.1"
  },
  "orig_nbformat": 4
 },
 "nbformat": 4,
 "nbformat_minor": 2
}
